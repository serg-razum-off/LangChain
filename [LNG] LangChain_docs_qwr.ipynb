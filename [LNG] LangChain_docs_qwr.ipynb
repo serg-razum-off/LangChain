{
 "cells": [
  {
   "attachments": {},
   "cell_type": "markdown",
   "metadata": {},
   "source": [
    "# This notebook is for loading persisted db and querying it"
   ]
  },
  {
   "cell_type": "code",
   "execution_count": 15,
   "metadata": {},
   "outputs": [],
   "source": [
    "from Functions.mdl_format import format_reply"
   ]
  },
  {
   "cell_type": "code",
   "execution_count": 16,
   "metadata": {},
   "outputs": [
    {
     "name": "stdout",
     "output_type": "stream",
     "text": [
      "Imports... Done\n"
     ]
    }
   ],
   "source": [
    "print(\"Imports... \", end='')\n",
    "\n",
    "from langchain.embeddings.openai import OpenAIEmbeddings\n",
    "from langchain.embeddings.huggingface import HuggingFaceEmbeddings\n",
    "from langchain.vectorstores import Chroma\n",
    "from langchain.llms import OpenAI\n",
    "from langchain.llms import huggingface_hub\n",
    "from langchain.chains import RetrievalQAWithSourcesChain\n",
    "\n",
    "print(\"Done\")"
   ]
  },
  {
   "cell_type": "code",
   "execution_count": 17,
   "metadata": {},
   "outputs": [],
   "source": [
    "db_dir = r\"C:\\Users\\Sergey\\OnD_Study\\Neuro\\Langchain_Docs\\Chroma_Dir\\db\"\n",
    "pdf_path = r'C:\\Users\\Sergey\\OnD_Study\\Neuro\\Langchain_Docs\\Chroma_Dir\\pdfs'"
   ]
  },
  {
   "cell_type": "code",
   "execution_count": 18,
   "metadata": {},
   "outputs": [
    {
     "name": "stderr",
     "output_type": "stream",
     "text": [
      "Using embedded DuckDB with persistence: data will be stored in: C:\\Users\\Sergey\\OnD_Study\\Neuro\\Langchain_Docs\\Chroma_Dir\\db\n"
     ]
    }
   ],
   "source": [
    "# vdb = Chroma(persist_directory=db_dir, embedding_function=OpenAIEmbeddings())\n",
    "vdb = Chroma(persist_directory=db_dir, embedding_function=HuggingFaceEmbeddings())"
   ]
  },
  {
   "attachments": {},
   "cell_type": "markdown",
   "metadata": {},
   "source": [
    "!! README !! <br>\n",
    "[[LCh usage of Hugging Face model -- other than OpenAI]](https://python.langchain.com/en/latest/modules/models/llms/integrations/huggingface_hub.html)"
   ]
  },
  {
   "cell_type": "code",
   "execution_count": 19,
   "metadata": {},
   "outputs": [
    {
     "ename": "TypeError",
     "evalue": "'module' object is not callable",
     "output_type": "error",
     "traceback": [
      "\u001b[1;31m---------------------------------------------------------------------------\u001b[0m",
      "\u001b[1;31mTypeError\u001b[0m                                 Traceback (most recent call last)",
      "Cell \u001b[1;32mIn[19], line 4\u001b[0m\n\u001b[0;32m      1\u001b[0m qwr \u001b[39m=\u001b[39m \u001b[39m\"\u001b[39m\u001b[39mgive me description of zero-shot-react-description. Give expanded answer\u001b[39m\u001b[39m\"\u001b[39m\n\u001b[0;32m      3\u001b[0m \u001b[39m# qa = RetrievalQAWithSourcesChain.from_chain_type(llm=OpenAI(temperature=0), chain_type=\"stuff\", retriever=vdb.as_retriever())\u001b[39;00m\n\u001b[1;32m----> 4\u001b[0m qa \u001b[39m=\u001b[39m RetrievalQAWithSourcesChain\u001b[39m.\u001b[39mfrom_chain_type(llm\u001b[39m=\u001b[39mhuggingface_hub(temperature\u001b[39m=\u001b[39;49m\u001b[39m0\u001b[39;49m), chain_type\u001b[39m=\u001b[39m\u001b[39m\"\u001b[39m\u001b[39mstuff\u001b[39m\u001b[39m\"\u001b[39m, retriever\u001b[39m=\u001b[39mvdb\u001b[39m.\u001b[39mas_retriever())\n",
      "\u001b[1;31mTypeError\u001b[0m: 'module' object is not callable"
     ]
    }
   ],
   "source": [
    "qwr = \"give me description of zero-shot-react-description. Give expanded answer\"\n",
    "\n",
    "# qa = RetrievalQAWithSourcesChain.from_chain_type(llm=OpenAI(temperature=0), chain_type=\"stuff\", retriever=vdb.as_retriever())\n",
    "qa = RetrievalQAWithSourcesChain.from_chain_type(llm=huggingface_hub(temperature=0), chain_type=\"stuff\", retriever=vdb.as_retriever())"
   ]
  },
  {
   "cell_type": "code",
   "execution_count": null,
   "metadata": {},
   "outputs": [
    {
     "name": "stdout",
     "output_type": "stream",
     "text": [
      "ZeroShotAgent is a framework to interact with a docstore. It consists of two \n",
      "tools, Search and Lookup, which are used to format the prompt. It is used to \n",
      "answer questions about current topics and requires a List of input variables for \n",
      "the final prompt. It is used in conjunction with Tool, AgentExecutor, \n",
      "SerpAPIWrapper, and LLMChain.\n",
      "================================================================================\n",
      "SRCs: \n",
      "\\agents_agent_types.pdf\n",
      " \\agents_agents.pdf\n",
      " \\agents_custom_agent.pdf\n",
      " \\agents_agent_executors.pdf\n"
     ]
    }
   ],
   "source": [
    "answer = qa({\"question\":qwr}, return_only_outputs=True)\n",
    "print(format_reply( answer['answer'], chunk_size=80 ))\n",
    "print(\"=\"*80)\n",
    "print(\"SRCs: \")\n",
    "print(\"\\n\".join(answer['sources'].replace(pdf_path, '').split(\",\")))"
   ]
  },
  {
   "cell_type": "code",
   "execution_count": null,
   "metadata": {},
   "outputs": [],
   "source": []
  }
 ],
 "metadata": {
  "kernelspec": {
   "display_name": "langchain",
   "language": "python",
   "name": "python3"
  },
  "language_info": {
   "codemirror_mode": {
    "name": "ipython",
    "version": 3
   },
   "file_extension": ".py",
   "mimetype": "text/x-python",
   "name": "python",
   "nbconvert_exporter": "python",
   "pygments_lexer": "ipython3",
   "version": "3.10.9"
  },
  "orig_nbformat": 4
 },
 "nbformat": 4,
 "nbformat_minor": 2
}
