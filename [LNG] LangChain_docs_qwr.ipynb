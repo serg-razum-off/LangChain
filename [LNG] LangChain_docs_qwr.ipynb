{
 "cells": [
  {
   "attachments": {},
   "cell_type": "markdown",
   "metadata": {},
   "source": [
    "# This notebook is for loading persisted db and querying it"
   ]
  },
  {
   "cell_type": "code",
   "execution_count": 44,
   "metadata": {},
   "outputs": [],
   "source": [
    "from Functions.mdl_format import format_reply"
   ]
  },
  {
   "cell_type": "code",
   "execution_count": 45,
   "metadata": {},
   "outputs": [
    {
     "name": "stdout",
     "output_type": "stream",
     "text": [
      "Imports... Done\n"
     ]
    }
   ],
   "source": [
    "print(\"Imports... \", end='')\n",
    "\n",
    "from langchain.document_loaders import UnstructuredPDFLoader\n",
    "from langchain.indexes import VectorstoreIndexCreator\n",
    "from langchain.embeddings.openai import OpenAIEmbeddings\n",
    "from langchain.text_splitter import CharacterTextSplitter\n",
    "from langchain.vectorstores import Chroma\n",
    "from langchain.llms import OpenAI\n",
    "from langchain.chains import RetrievalQAWithSourcesChain\n",
    "\n",
    "print(\"Done\")"
   ]
  },
  {
   "cell_type": "code",
   "execution_count": 75,
   "metadata": {},
   "outputs": [],
   "source": [
    "db_dir = r\"C:\\Users\\Sergey\\OnD_Study\\Neuro\\Langchain_Docs\\Chroma_Dir\\db\"\n",
    "pdf_path = r'C:\\Users\\Sergey\\OnD_Study\\Neuro\\Langchain_Docs\\Chroma_Dir\\pdfs'"
   ]
  },
  {
   "cell_type": "code",
   "execution_count": 47,
   "metadata": {},
   "outputs": [
    {
     "name": "stderr",
     "output_type": "stream",
     "text": [
      "Using embedded DuckDB with persistence: data will be stored in: C:\\Users\\Sergey\\OnD_Study\\Neuro\\Langchain_Docs\\Chroma_Dir\\db\n"
     ]
    }
   ],
   "source": [
    "vdb = Chroma(persist_directory=db_dir, embedding_function=OpenAIEmbeddings())"
   ]
  },
  {
   "cell_type": "code",
   "execution_count": 93,
   "metadata": {},
   "outputs": [],
   "source": [
    "qwr = \"give me description of react-docstore. Give expanded answer\"\n",
    "\n",
    "qa = RetrievalQAWithSourcesChain.from_chain_type(llm=OpenAI(temperature=1e-1), chain_type=\"stuff\", retriever=vdb.as_retriever())"
   ]
  },
  {
   "cell_type": "code",
   "execution_count": 97,
   "metadata": {},
   "outputs": [
    {
     "name": "stdout",
     "output_type": "stream",
     "text": [
      "React-Docstore is a framework that allows developers to interact with a \n",
      "docstore. It provides two tools, a Search tool and a Lookup tool, which can be \n",
      "used to search and lookup terms in the docstore. It also provides an \n",
      "AgentExecutor tool which can be used to call and iterate an Agent and its Tools.\n",
      "================================================================================\n",
      "SRCs: \n",
      "\\agents_agent_types.pdf\n",
      " \\agents_agents.pdf\n",
      " \\agents_custom_agent.pdf\n",
      " \\agents_agent_executors.pdf\n"
     ]
    }
   ],
   "source": [
    "answer = qa({\"question\":qwr}, return_only_outputs=False)\n",
    "print(format_reply( answer['answer'], chunk_size=80 ))\n",
    "print(\"=\"*80)\n",
    "print(\"SRCs: \")\n",
    "print(\"\\n\".join(answer['sources'].replace(pdf_path, '').split(\",\")))"
   ]
  },
  {
   "cell_type": "code",
   "execution_count": null,
   "metadata": {},
   "outputs": [],
   "source": []
  }
 ],
 "metadata": {
  "kernelspec": {
   "display_name": "langchain",
   "language": "python",
   "name": "python3"
  },
  "language_info": {
   "codemirror_mode": {
    "name": "ipython",
    "version": 3
   },
   "file_extension": ".py",
   "mimetype": "text/x-python",
   "name": "python",
   "nbconvert_exporter": "python",
   "pygments_lexer": "ipython3",
   "version": "3.10.9"
  },
  "orig_nbformat": 4
 },
 "nbformat": 4,
 "nbformat_minor": 2
}
