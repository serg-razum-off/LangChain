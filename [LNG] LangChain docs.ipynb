{
 "cells": [
  {
   "attachments": {},
   "cell_type": "markdown",
   "metadata": {},
   "source": [
    "# This Notebook is for a LCh Chat over the LCh docs\n",
    "docs were compiled from [[LCh URL]](https://python.langchain.com/en/latest/index.html#) via <br>\n",
    "```\n",
    "[URL] Get_URLs_LCh_docs.ipynb\n",
    "```"
   ]
  },
  {
   "attachments": {},
   "cell_type": "markdown",
   "metadata": {},
   "source": [
    "!! important:\n",
    "dectron2 prerequisites: [[SOF]](https://stackoverflow.com/questions/60631933/install-detectron2-on-windows-10)\n",
    "\n",
    "```\n",
    "Installation of detectron2 in Windows is somehow tricky. I struggled a whole week to make it work <...>\n",
    "\n",
    "    conda install -c anaconda cudatoolkit=11.3\n",
    "    conda install -c anaconda cudnn\n",
    "    conda install -c anaconda pywin32\n",
    "```\n",
    "conda install -c pytorch pytorch  <br>\n",
    "conda install -c pytorch torchvision <br>\n",
    "pip install \"git+https://github.com/facebookresearch/detectron2.git@v0.3\" <br>\n",
    "conda install -c conda-forge poppler\n",
    "\n",
    "for tesseract Err read [[SOF]](https://stackoverflow.com/questions/50951955/pytesseract-tesseractnotfound-error-tesseract-is-not-installed-or-its-not-i) <br>\n",
    "--> note that tesseract after win-installing should be added to PATH <br>\n",
    "--> pytesseract.pytesseract.tesseract_cmd = r'C:\\Program Files\\Tesseract-OCR\\tesseract.ex"
   ]
  },
  {
   "cell_type": "code",
   "execution_count": 2,
   "metadata": {},
   "outputs": [],
   "source": [
    "import os\n",
    "from tqdm import tqdm"
   ]
  },
  {
   "cell_type": "code",
   "execution_count": 35,
   "metadata": {},
   "outputs": [],
   "source": [
    "from langchain.document_loaders import UnstructuredPDFLoader\n",
    "from langchain.indexes import VectorstoreIndexCreator\n",
    "\n",
    "from langchain.chains import RetrievalQA\n",
    "from langchain.llms import OpenAI\n",
    "from langchain.embeddings.openai import OpenAIEmbeddings\n",
    "from langchain.text_splitter import CharacterTextSplitter\n",
    "from langchain.vectorstores import Chroma\n",
    "# import chromadb\n",
    "# from chromadb.config import Settings\n",
    "from langchain.document_loaders import TextLoader\n",
    "import pytesseract"
   ]
  },
  {
   "cell_type": "code",
   "execution_count": null,
   "metadata": {},
   "outputs": [],
   "source": []
  },
  {
   "cell_type": "code",
   "execution_count": 16,
   "metadata": {},
   "outputs": [
    {
     "data": {
      "text/plain": [
       "'C:\\\\Users\\\\Sergey\\\\OnD_Study\\\\Neuro\\\\Langchain_Docs\\\\Chroma_Dir'"
      ]
     },
     "execution_count": 16,
     "metadata": {},
     "output_type": "execute_result"
    }
   ],
   "source": [
    "path = r'C:\\Users\\Sergey\\OnD_Study\\Neuro\\Langchain_Docs\\Chroma_Dir'\n",
    "path"
   ]
  },
  {
   "cell_type": "code",
   "execution_count": 17,
   "metadata": {},
   "outputs": [
    {
     "name": "stdout",
     "output_type": "stream",
     "text": [
      ">> list of loaders comprehended: [4]\n"
     ]
    }
   ],
   "source": [
    "loaders = [UnstructuredPDFLoader(os.path.join(path, fn)) for fn in os.listdir(path)]\n",
    "\n",
    "print(f\">> list of loaders comprehended: [{len(loaders)}]\")"
   ]
  },
  {
   "cell_type": "code",
   "execution_count": 6,
   "metadata": {},
   "outputs": [],
   "source": [
    "pytesseract.pytesseract.tesseract_cmd = r'C:\\Program Files\\Tesseract-OCR\\tesseract.exe'"
   ]
  },
  {
   "cell_type": "code",
   "execution_count": 18,
   "metadata": {},
   "outputs": [
    {
     "name": "stderr",
     "output_type": "stream",
     "text": [
      "100%|██████████| 4/4 [00:59<00:00, 14.95s/it]\n",
      "Using embedded DuckDB without persistence: data will be transient\n"
     ]
    }
   ],
   "source": [
    "# %%capture\n",
    "db_dir = r\"C:\\Users\\Sergey\\OnD_Study\\Neuro\\Langchain_Docs\\Chroma_Dir\"\n",
    "\n",
    "index = VectorstoreIndexCreator(\n",
    "    vectorstore_cls=Chroma,\n",
    "    embedding=OpenAIEmbeddings(),\n",
    "    text_splitter=CharacterTextSplitter(chunk_size=1000, chunk_overlap=50)\n",
    ").from_loaders(tqdm(loaders))"
   ]
  },
  {
   "cell_type": "code",
   "execution_count": 47,
   "metadata": {},
   "outputs": [
    {
     "ename": "NotImplementedError",
     "evalue": "Set chroma_db_impl='duckdb+parquet' to get persistence functionality",
     "output_type": "error",
     "traceback": [
      "\u001b[1;31m---------------------------------------------------------------------------\u001b[0m",
      "\u001b[1;31mNotImplementedError\u001b[0m                       Traceback (most recent call last)",
      "Cell \u001b[1;32mIn[47], line 4\u001b[0m\n\u001b[0;32m      1\u001b[0m search \u001b[39m=\u001b[39m \u001b[39m\"\u001b[39m\u001b[39m\"\u001b[39m\u001b[39m.\u001b[39msplit(\u001b[39m\"\u001b[39m\u001b[39m \u001b[39m\u001b[39m\"\u001b[39m)\n\u001b[0;32m      2\u001b[0m meth_list \u001b[39m=\u001b[39m [meth \u001b[39mfor\u001b[39;00m meth \u001b[39min\u001b[39;00m \u001b[39mdir\u001b[39m(VectorstoreIndexCreator\u001b[39m.\u001b[39mfrom_loaders) \u001b[39mif\u001b[39;00m \u001b[39many\u001b[39m(sear \u001b[39min\u001b[39;00m meth \u001b[39mfor\u001b[39;00m sear \u001b[39min\u001b[39;00m search)]\n\u001b[1;32m----> 4\u001b[0m index\u001b[39m.\u001b[39;49mvectorstore\u001b[39m.\u001b[39;49mpersist()\n",
      "File \u001b[1;32mc:\\Users\\Sergey\\miniconda3\\envs\\langchain\\lib\\site-packages\\langchain\\vectorstores\\chroma.py:200\u001b[0m, in \u001b[0;36mChroma.persist\u001b[1;34m(self)\u001b[0m\n\u001b[0;32m    195\u001b[0m \u001b[39mif\u001b[39;00m \u001b[39mself\u001b[39m\u001b[39m.\u001b[39m_persist_directory \u001b[39mis\u001b[39;00m \u001b[39mNone\u001b[39;00m:\n\u001b[0;32m    196\u001b[0m     \u001b[39mraise\u001b[39;00m \u001b[39mValueError\u001b[39;00m(\n\u001b[0;32m    197\u001b[0m         \u001b[39m\"\u001b[39m\u001b[39mYou must specify a persist_directory on\u001b[39m\u001b[39m\"\u001b[39m\n\u001b[0;32m    198\u001b[0m         \u001b[39m\"\u001b[39m\u001b[39mcreation to persist the collection.\u001b[39m\u001b[39m\"\u001b[39m\n\u001b[0;32m    199\u001b[0m     )\n\u001b[1;32m--> 200\u001b[0m \u001b[39mself\u001b[39;49m\u001b[39m.\u001b[39;49m_client\u001b[39m.\u001b[39;49mpersist()\n",
      "File \u001b[1;32mc:\\Users\\Sergey\\miniconda3\\envs\\langchain\\lib\\site-packages\\chromadb\\api\\local.py:318\u001b[0m, in \u001b[0;36mLocalAPI.persist\u001b[1;34m(self)\u001b[0m\n\u001b[0;32m    317\u001b[0m \u001b[39mdef\u001b[39;00m \u001b[39mpersist\u001b[39m(\u001b[39mself\u001b[39m):\n\u001b[1;32m--> 318\u001b[0m     \u001b[39mself\u001b[39;49m\u001b[39m.\u001b[39;49m_db\u001b[39m.\u001b[39;49mpersist()\n\u001b[0;32m    319\u001b[0m     \u001b[39mreturn\u001b[39;00m \u001b[39mTrue\u001b[39;00m\n",
      "File \u001b[1;32mc:\\Users\\Sergey\\miniconda3\\envs\\langchain\\lib\\site-packages\\chromadb\\db\\duckdb.py:363\u001b[0m, in \u001b[0;36mDuckDB.persist\u001b[1;34m(self)\u001b[0m\n\u001b[0;32m    362\u001b[0m \u001b[39mdef\u001b[39;00m \u001b[39mpersist\u001b[39m(\u001b[39mself\u001b[39m):\n\u001b[1;32m--> 363\u001b[0m     \u001b[39mraise\u001b[39;00m \u001b[39mNotImplementedError\u001b[39;00m(\n\u001b[0;32m    364\u001b[0m         \u001b[39m\"\u001b[39m\u001b[39mSet chroma_db_impl=\u001b[39m\u001b[39m'\u001b[39m\u001b[39mduckdb+parquet\u001b[39m\u001b[39m'\u001b[39m\u001b[39m to get persistence functionality\u001b[39m\u001b[39m\"\u001b[39m\n\u001b[0;32m    365\u001b[0m     )\n",
      "\u001b[1;31mNotImplementedError\u001b[0m: Set chroma_db_impl='duckdb+parquet' to get persistence functionality"
     ]
    }
   ],
   "source": [
    "search = \"\".split(\" \")\n",
    "meth_list = [meth for meth in dir(VectorstoreIndexCreator.from_loaders) if any(sear in meth for sear in search)]\n",
    "\n",
    "index.vectorstore.persist()"
   ]
  }
 ],
 "metadata": {
  "kernelspec": {
   "display_name": "langchain",
   "language": "python",
   "name": "python3"
  },
  "language_info": {
   "codemirror_mode": {
    "name": "ipython",
    "version": 3
   },
   "file_extension": ".py",
   "mimetype": "text/x-python",
   "name": "python",
   "nbconvert_exporter": "python",
   "pygments_lexer": "ipython3",
   "version": "3.10.9"
  },
  "orig_nbformat": 4
 },
 "nbformat": 4,
 "nbformat_minor": 2
}
