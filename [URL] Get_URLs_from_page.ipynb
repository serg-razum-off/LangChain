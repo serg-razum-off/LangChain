{
 "cells": [
  {
   "attachments": {},
   "cell_type": "markdown",
   "metadata": {},
   "source": [
    "# Getting URLs from the page"
   ]
  },
  {
   "attachments": {},
   "cell_type": "markdown",
   "metadata": {},
   "source": [
    "this is done for [[LangChain]](https://langchain.readthedocs.io/en/latest/getting_started/getting_started.html) site as an example"
   ]
  },
  {
   "attachments": {},
   "cell_type": "markdown",
   "metadata": {},
   "source": [
    "### "
   ]
  },
  {
   "cell_type": "code",
   "execution_count": 7,
   "metadata": {},
   "outputs": [],
   "source": [
    "import os\n",
    "from tqdm import tqdm\n",
    "import requests\n",
    "from bs4 import BeautifulSoup\n",
    "from pyhtml2pdf import converter"
   ]
  },
  {
   "cell_type": "code",
   "execution_count": 2,
   "metadata": {},
   "outputs": [
    {
     "name": "stdout",
     "output_type": "stream",
     "text": [
      "['https://langchain.readthedocs.io/en/latest/index.html', 'https://langchain.readthedocs.io/en/latest/modules/models.html']\n"
     ]
    }
   ],
   "source": [
    "# Send a GET request to the URL\n",
    "url = \"https://langchain.readthedocs.io/en/latest/getting_started/getting_started.html\"\n",
    "response = requests.get(url)\n",
    "\n",
    "# Create a BeautifulSoup object with the HTML content\n",
    "soup = BeautifulSoup(response.content, \"html.parser\")\n",
    "\n",
    "links = soup.find_all(\"a\")\n",
    "\n",
    "for i in range(len(links)):\n",
    "    links[i] = links[i].get(\"href\")\n",
    "\n",
    "links = [link.replace('..', 'https://langchain.readthedocs.io/en/latest') for link in links if \"/\" in link]\n",
    "print(links[:2])\n"
   ]
  },
  {
   "cell_type": "code",
   "execution_count": 17,
   "metadata": {},
   "outputs": [
    {
     "name": "stderr",
     "output_type": "stream",
     "text": [
      "100%|██████████| 178/178 [47:43<00:00, 16.09s/it]"
     ]
    },
    {
     "name": "stdout",
     "output_type": "stream",
     "text": [
      "Жопіздан\n"
     ]
    },
    {
     "name": "stderr",
     "output_type": "stream",
     "text": [
      "\n"
     ]
    }
   ],
   "source": [
    "# Set the urls_list to your list of URLs\n",
    "# urls_list = [\"https://python.langchain.com/en/latest/modules/prompts.html\", \"https://python.langchain.com/en/latest/modules/prompts/getting_started.html\"]\n",
    "urls_list = links[147:]\n",
    "\n",
    "output_dir = r'C:\\Users\\Sergey\\Downloads\\LangChainDocs'\n",
    "if not os.path.exists(output_dir):\n",
    "    os.makedirs(output_dir)\n",
    "\n",
    "for url in tqdm(urls_list):\n",
    "    response = requests.get(url)\n",
    "    output_filename = os.path.basename(url) + \".pdf\"\n",
    "    output_path = os.path.join(output_dir, output_filename)\n",
    "    converter.convert(url, output_path)\n",
    "\n",
    "print(\"Жопіздан\")"
   ]
  }
 ],
 "metadata": {
  "kernelspec": {
   "display_name": "base",
   "language": "python",
   "name": "python3"
  },
  "language_info": {
   "codemirror_mode": {
    "name": "ipython",
    "version": 3
   },
   "file_extension": ".py",
   "mimetype": "text/x-python",
   "name": "python",
   "nbconvert_exporter": "python",
   "pygments_lexer": "ipython3",
   "version": "3.10.9"
  },
  "orig_nbformat": 4
 },
 "nbformat": 4,
 "nbformat_minor": 2
}
