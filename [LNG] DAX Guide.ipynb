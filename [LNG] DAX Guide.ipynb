{
 "cells": [
  {
   "attachments": {},
   "cell_type": "markdown",
   "metadata": {},
   "source": [
    "# LangChain VS DaxGuide"
   ]
  },
  {
   "cell_type": "code",
   "execution_count": 16,
   "metadata": {},
   "outputs": [],
   "source": [
    "import json\n",
    "import os\n",
    "from langchain.llms import OpenAI"
   ]
  },
  {
   "cell_type": "code",
   "execution_count": 14,
   "metadata": {},
   "outputs": [],
   "source": [
    "os.environ[\"OPENAI_API_KEY\"] = json.load(open(\"ProjectSettings\\Keys_Vault.json\"))[\"Open_AI_Key\"]"
   ]
  },
  {
   "cell_type": "code",
   "execution_count": 19,
   "metadata": {},
   "outputs": [],
   "source": [
    "llm = OpenAI(temperature=0.9)"
   ]
  },
  {
   "cell_type": "code",
   "execution_count": 23,
   "metadata": {},
   "outputs": [
    {
     "name": "stdout",
     "output_type": "stream",
     "text": [
      "\n",
      "\n",
      "1. Increased Security: DAX has extensive security measures in place to help protect against data leakage and unauthorized access.\n",
      "\n",
      "2. Flexibility: DAX can be used with virtually any data source, offering a great degree of flexibility in how data is stored and accessed.\n",
      "\n",
      "3. Speed and Performance: DAX offers fast query performance and is able to handle larger data volumes with ease.\n",
      "\n",
      "4. Scalability: DAX can be easily scaled to accommodate the data processing needs of any organization.\n",
      "\n",
      "5. Cost Savings: With its low cost of entry, DAX can save organizations considerable amounts of money in infrastructure and operations costs.\n"
     ]
    }
   ],
   "source": [
    "qwr = \"which are 5 advantages of DAX?\"\n",
    "print(llm(qwr))"
   ]
  }
 ],
 "metadata": {
  "kernelspec": {
   "display_name": "langchain",
   "language": "python",
   "name": "python3"
  },
  "language_info": {
   "codemirror_mode": {
    "name": "ipython",
    "version": 3
   },
   "file_extension": ".py",
   "mimetype": "text/x-python",
   "name": "python",
   "nbconvert_exporter": "python",
   "pygments_lexer": "ipython3",
   "version": "3.10.9"
  },
  "orig_nbformat": 4
 },
 "nbformat": 4,
 "nbformat_minor": 2
}
