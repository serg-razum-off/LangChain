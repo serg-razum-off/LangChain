{
 "cells": [
  {
   "attachments": {},
   "cell_type": "markdown",
   "metadata": {},
   "source": [
    "# LangChain VS DaxGuide"
   ]
  },
  {
   "cell_type": "code",
   "execution_count": 17,
   "metadata": {},
   "outputs": [],
   "source": [
    "import json\n",
    "import os\n",
    "from langchain import OpenAI, ConversationChain"
   ]
  },
  {
   "cell_type": "code",
   "execution_count": 28,
   "metadata": {},
   "outputs": [],
   "source": [
    "#split string that was returned by ChatGPT\n",
    "\n",
    "def split_string(string, chunk_size=100):\n",
    "    words = string.split()\n",
    "    result = \"\"\n",
    "    line_length = 0\n",
    "    for word in words:\n",
    "        if line_length + len(word) > chunk_size:\n",
    "            result += \"\\n\"\n",
    "            line_length = 0\n",
    "        result += word + \" \"\n",
    "        line_length += len(word) + 1\n",
    "    return result.strip()"
   ]
  },
  {
   "cell_type": "code",
   "execution_count": 18,
   "metadata": {},
   "outputs": [],
   "source": [
    "os.environ[\"OPENAI_API_KEY\"] = json.load(open(\"ProjectSettings\\Keys_Vault.json\"))[\"Open_AI_Key\"]"
   ]
  },
  {
   "cell_type": "code",
   "execution_count": 19,
   "metadata": {},
   "outputs": [],
   "source": [
    "llm = OpenAI(temperature=0.9)\n",
    "conversation = ConversationChain(llm=llm)"
   ]
  },
  {
   "cell_type": "code",
   "execution_count": 25,
   "metadata": {},
   "outputs": [
    {
     "name": "stdout",
     "output_type": "stream",
     "text": [
      "  1. DAX provides support for a wide range of data types and syntax.\n",
      "2. DAX is designed to make complex calculations easier and more efficient.\n",
      "3. DAX simplifies data modelling for Power BI and Excel.\n",
      "4. DAX is computationally intensive, providing highly efficient ways of getting insights from large data sets.\n",
      "5. DAX offers powerful features that are not available in Excel or other query languages.\n"
     ]
    }
   ],
   "source": [
    "# qwr = \"which are 5 advantages of DAX?\"\n",
    "# print(llm(qwr))\n",
    "print(conversation.predict(input=\"which are 5 advantages of DAX? (split your points by new line, please)\"))"
   ]
  },
  {
   "cell_type": "code",
   "execution_count": 26,
   "metadata": {},
   "outputs": [
    {
     "name": "stdout",
     "output_type": "stream",
     "text": [
      "SR: >>> Why do you think that the main advantage is simplicity. They say DAX is not simple, just seems to be so... <<<\n",
      "\n",
      "DAX may appear complex at first, but its underlying design makes it easy to use. Its syntax and \n",
      "features such as calculated columns and measures make data modelling and complex calculations easier \n",
      "and more efficient. Additionally, DAX works on large data sets and can quickly provide insights, \n",
      "making it a powerful tool.\n",
      "====================\n",
      "SR: >>> what about context transition? Is it a simple notion? <<<\n",
      "\n",
      "Context transition is the process of switching between different tasks or contexts in order to \n",
      "better understand the data. It is an important concept for understanding data modelling and can be \n",
      "difficult to master.\n",
      "====================\n",
      "SR: >>> tell me the order of steps in context transition <<<\n",
      "\n",
      "The order of steps in context transition is: 1) identify the problem, 2) determine the data that is \n",
      "related to the problem, 3) determine the context of the data, 4) use the context to inform the data \n",
      "model, 5) use the model to analyze the data and make decisions.\n",
      "====================\n",
      "SR: >>> I'm talking about contest transition in DAX <<<\n",
      "\n",
      "Context transition in DAX involves understanding the data and context in order to build a data \n",
      "model. The steps are the same as in any context transition process: identify the problem, determine \n",
      "the related data, determine the context of the data, use the context to inform the data model, and \n",
      "analyze the data to make decisions.\n",
      "====================\n"
     ]
    }
   ],
   "source": [
    "inp = \"\"\n",
    "while inp != \"stop\":\n",
    "    inp = input(\"your question...\")\n",
    "    if(inp == \"stop\"): break\n",
    "    print(\"SR: >>> \" + inp + \" <<<\\n\")\n",
    "    resp = conversation.predict(input=inp)\n",
    "    print(split_string(resp))\n",
    "    print(\"=\"*20)"
   ]
  }
 ],
 "metadata": {
  "kernelspec": {
   "display_name": "langchain",
   "language": "python",
   "name": "python3"
  },
  "language_info": {
   "codemirror_mode": {
    "name": "ipython",
    "version": 3
   },
   "file_extension": ".py",
   "mimetype": "text/x-python",
   "name": "python",
   "nbconvert_exporter": "python",
   "pygments_lexer": "ipython3",
   "version": "3.10.9"
  },
  "orig_nbformat": 4
 },
 "nbformat": 4,
 "nbformat_minor": 2
}
