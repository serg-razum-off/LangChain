{
 "cells": [
  {
   "attachments": {},
   "cell_type": "markdown",
   "metadata": {},
   "source": [
    "# ChatGPT Access Agent"
   ]
  },
  {
   "attachments": {},
   "cell_type": "markdown",
   "metadata": {},
   "source": [
    "### Func for printing ChGPT responses"
   ]
  },
  {
   "cell_type": "code",
   "execution_count": 1,
   "metadata": {},
   "outputs": [],
   "source": [
    "#split string that was returned by ChatGPT\n",
    "\n",
    "def split_string(string, chunk_size=100):\n",
    "    words = string.split()\n",
    "    result = \"\"\n",
    "    line_length = 0\n",
    "    for word in words:\n",
    "        if line_length + len(word) > chunk_size:\n",
    "            result += \"\\n\"\n",
    "            line_length = 0\n",
    "        result += word + \" \"\n",
    "        line_length += len(word) + 1\n",
    "    return result.strip()"
   ]
  },
  {
   "attachments": {},
   "cell_type": "markdown",
   "metadata": {},
   "source": [
    "### Main Code"
   ]
  },
  {
   "cell_type": "code",
   "execution_count": 2,
   "metadata": {},
   "outputs": [],
   "source": [
    "import json\n",
    "import os\n",
    "from langchain import OpenAI, ConversationChain\n",
    "from langchain import VectorDBQA\n",
    "\n",
    "temp = 0.9\n"
   ]
  },
  {
   "cell_type": "code",
   "execution_count": 9,
   "metadata": {},
   "outputs": [],
   "source": [
    "# os.environ['OPENAI_API_KEY'] = \\\n",
    "# os.getenv('OPENAI_API_KEY')"
   ]
  },
  {
   "cell_type": "code",
   "execution_count": 14,
   "metadata": {},
   "outputs": [],
   "source": [
    "conversation = ConversationChain(\n",
    "                llm=OpenAI(temperature=temp)\n",
    "            )"
   ]
  },
  {
   "cell_type": "code",
   "execution_count": 5,
   "metadata": {},
   "outputs": [
    {
     "name": "stdout",
     "output_type": "stream",
     "text": [
      "\n",
      "1. DAX queries are simpler than other query languages, making it easier to learn and use.\n",
      "2. DAX functions are evaluated quickly, allowing for rapid data analysis.\n",
      "3. It provides a wide range of features, from filtering, sorting and aggregating data to creating calculated columns and measures.\n",
      "4. It supports advanced calculations, making it possible to create complex analytical calculations.\n",
      "5. DAX queries are optimized for the data model and can be used to improve performance.\n"
     ]
    }
   ],
   "source": [
    "# qwr = \"which are 5 advantages of DAX?\"\n",
    "# print(llm(qwr))\n",
    "print(conversation.predict(input=\"which are 5 advantages of DAX? (split your points by new line, please)\"))"
   ]
  },
  {
   "cell_type": "code",
   "execution_count": 6,
   "metadata": {},
   "outputs": [
    {
     "name": "stdout",
     "output_type": "stream",
     "text": [
      "================================================== Long Dialogues continue in 'text editor' by the link that will appear ==================================================\n",
      "\n",
      "\n",
      "SR: >>> what would you say is the main advantege of DAX? <<<\n",
      "\n",
      "I would say the main advantage of DAX is its simpler query language, which makes it easier to learn \n",
      "and use.\n",
      "====================\n",
      "SR: >>> give me please brief and simple description of VALUES() <<<\n",
      "\n",
      "VALUES() is a DAX function that returns a list of distinct values from a column in a table. It is \n",
      "used to create a single-column table from a column in an existing table.\n",
      "====================\n",
      "SR: >>> only unique values are returned? <<<\n",
      "\n",
      "Yes, only unique values are returned by the VALUES() function.\n",
      "====================\n",
      "SR: >>> what about blank value? is it added to the list of unique values? <<<\n",
      "\n",
      "Yes, blank values are included in the list of unique values returned by the VALUES() function.\n",
      "====================\n",
      "SR: >>> why blank values are added? with which purpose? <<<\n",
      "\n",
      "Blank values are added to the list of unique values because they represent data that may be missing \n",
      "or not applicable. They can be used to identify missing or incomplete data.\n",
      "====================\n",
      "SR: >>> thanks, this makes sense <<<\n",
      "\n",
      "You're welcome! Glad I could help.\n",
      "====================\n"
     ]
    }
   ],
   "source": [
    "print(\"=\"*20 + \" Long Dialogues continue in 'text editor' by the link that will appear \" + \"=\"*20 + \"\\n\\n\")\n",
    "inp = \"\"\n",
    "while inp != \"stop\":\n",
    "    inp = input(\"your question...\")\n",
    "    if(inp == \"stop\"): break\n",
    "    print(\"SR: >>> \" + inp + \" <<<\\n\")\n",
    "    resp = conversation.predict(input=inp)\n",
    "    print(split_string(resp))\n",
    "    print(\"=\"*20)"
   ]
  }
 ],
 "metadata": {
  "kernelspec": {
   "display_name": "langchain",
   "language": "python",
   "name": "python3"
  },
  "language_info": {
   "codemirror_mode": {
    "name": "ipython",
    "version": 3
   },
   "file_extension": ".py",
   "mimetype": "text/x-python",
   "name": "python",
   "nbconvert_exporter": "python",
   "pygments_lexer": "ipython3",
   "version": "3.10.9"
  },
  "orig_nbformat": 4
 },
 "nbformat": 4,
 "nbformat_minor": 2
}
