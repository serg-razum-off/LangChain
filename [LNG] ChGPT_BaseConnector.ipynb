{
 "cells": [
  {
   "attachments": {},
   "cell_type": "markdown",
   "metadata": {},
   "source": [
    "# ChatGPT Access Agent"
   ]
  },
  {
   "attachments": {},
   "cell_type": "markdown",
   "metadata": {},
   "source": [
    "### Func for printing ChGPT responses"
   ]
  },
  {
   "cell_type": "code",
   "execution_count": 10,
   "metadata": {},
   "outputs": [
    {
     "name": "stdout",
     "output_type": "stream",
     "text": [
      ">>> Fn split_string... Loaded\n"
     ]
    }
   ],
   "source": [
    "# split string that was returned by ChatGPT\n",
    "\n",
    "def split_string(string, chunk_size=100):\n",
    "    words = string.split()\n",
    "    result = \"\"\n",
    "    line_length = 0\n",
    "    for word in words:\n",
    "        if line_length + len(word) > chunk_size:\n",
    "            result += \"\\n\"\n",
    "            line_length = 0\n",
    "        result += word + \" \"\n",
    "        line_length += len(word) + 1\n",
    "    return result.strip()\n",
    "\n",
    "print(\">>> Fn split_string... Loaded\")"
   ]
  },
  {
   "attachments": {},
   "cell_type": "markdown",
   "metadata": {},
   "source": [
    "### Main Code"
   ]
  },
  {
   "cell_type": "code",
   "execution_count": 7,
   "metadata": {},
   "outputs": [],
   "source": [
    "import json\n",
    "import os\n",
    "from langchain import OpenAI, ConversationChain\n",
    "from langchain import VectorDBQA\n",
    "\n",
    "temp = 0.9\n"
   ]
  },
  {
   "cell_type": "code",
   "execution_count": 8,
   "metadata": {},
   "outputs": [],
   "source": [
    "# os.environ['OPENAI_API_KEY'] = \\\n",
    "# os.getenv('OPENAI_API_KEY')"
   ]
  },
  {
   "cell_type": "code",
   "execution_count": 9,
   "metadata": {},
   "outputs": [],
   "source": [
    "conversation = ConversationChain(\n",
    "                llm=OpenAI(temperature=temp)\n",
    "            )"
   ]
  },
  {
   "cell_type": "code",
   "execution_count": 6,
   "metadata": {},
   "outputs": [
    {
     "name": "stdout",
     "output_type": "stream",
     "text": [
      " Sure! What can I help you with regarding Python?\n"
     ]
    }
   ],
   "source": [
    "# qwr = \"which are 5 advantages of DAX?\"\n",
    "# print(llm(qwr))\n",
    "# print(conversation.predict(input=\"which are 5 advantages of DAX? (split your points by new line, please)\"))\n",
    "print(conversation.predict(input=\"hello. I have a question about Python)\"))"
   ]
  },
  {
   "cell_type": "code",
   "execution_count": 9,
   "metadata": {},
   "outputs": [
    {
     "name": "stdout",
     "output_type": "stream",
     "text": [
      "==================== Long Dialogues continue in 'text editor' by the link that will appear ====================\n",
      "\n",
      "\n",
      "SR: >>> for url in urls_list: --> write this in  <<<\n",
      "\n",
      "I'm sorry, I'm not sure what you're asking. Could you please provide more details?\n",
      "====================\n",
      "SR: >>> for url in urls_list: --> wpar  this in tqdm <<<\n",
      "\n",
      "Sure! Here is the code: `for url in tqdm(urls_list):`\n",
      "====================\n",
      "SR: >>> 'module' object is not callable <<<\n",
      "\n",
      "It looks like you are getting a \"module object is not callable\" error. This usually means that you \n",
      "are trying to call a function that is not defined, or you have imported the wrong module. Make sure \n",
      "that the function you are trying to call is defined, and you have imported the correct module.\n",
      "====================\n",
      "SR: >>> іщ <<<\n",
      "\n",
      "I'm sorry, I'm not familiar with that. Could you please explain what you mean?\n",
      "====================\n",
      "SR: >>>  <<<\n",
      "\n",
      "I'm not sure what you're looking for. Could you please provide more information?\n",
      "====================\n"
     ]
    }
   ],
   "source": [
    "print(\"=\"*20 + \" Long Dialogues continue in 'text editor' by the link that will appear \" + \"=\"*20 + \"\\n\\n\")\n",
    "inp = \"\"\n",
    "while inp != \"stop\":\n",
    "    inp = input(\"your question...\")\n",
    "    if(inp == \"stop\"): break\n",
    "    print(\"SR: >>> \" + inp + \" <<<\\n\")\n",
    "    resp = conversation.predict(input=inp)\n",
    "    print(split_string(resp))\n",
    "    print(\"=\"*20)"
   ]
  }
 ],
 "metadata": {
  "kernelspec": {
   "display_name": "langchain",
   "language": "python",
   "name": "python3"
  },
  "language_info": {
   "codemirror_mode": {
    "name": "ipython",
    "version": 3
   },
   "file_extension": ".py",
   "mimetype": "text/x-python",
   "name": "python",
   "nbconvert_exporter": "python",
   "pygments_lexer": "ipython3",
   "version": "3.10.9"
  },
  "orig_nbformat": 4
 },
 "nbformat": 4,
 "nbformat_minor": 2
}
